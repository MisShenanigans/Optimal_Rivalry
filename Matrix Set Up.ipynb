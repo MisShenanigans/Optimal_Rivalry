{
 "cells": [
  {
   "cell_type": "code",
   "execution_count": 7,
   "id": "4d608a9f-30ea-4246-b7bb-1f6d77c01649",
   "metadata": {},
   "outputs": [],
   "source": [
    "import numpy as np\n",
    "import pandas as pd"
   ]
  },
  {
   "cell_type": "code",
   "execution_count": 9,
   "id": "3a0e4d70-360f-46ff-894d-43d950b6c80d",
   "metadata": {},
   "outputs": [],
   "source": [
    "WinRate_df = pd.read_csv(\"MarvelRivals_WinRate_Matrix.csv\")\n",
    "NumMatchesdf = pd.read_csv(\"MarvelRivals_NumMatches_Matrix.csv\")"
   ]
  },
  {
   "cell_type": "code",
   "execution_count": null,
   "id": "e05024f8-0f5d-46c3-b693-f5fc25b1cf17",
   "metadata": {},
   "outputs": [],
   "source": []
  }
 ],
 "metadata": {
  "kernelspec": {
   "display_name": "Python 3 (ipykernel)",
   "language": "python",
   "name": "python3"
  },
  "language_info": {
   "codemirror_mode": {
    "name": "ipython",
    "version": 3
   },
   "file_extension": ".py",
   "mimetype": "text/x-python",
   "name": "python",
   "nbconvert_exporter": "python",
   "pygments_lexer": "ipython3",
   "version": "3.12.5"
  }
 },
 "nbformat": 4,
 "nbformat_minor": 5
}
