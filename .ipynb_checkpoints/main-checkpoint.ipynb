{
 "cells": [
  {
   "cell_type": "code",
   "execution_count": 34,
   "metadata": {},
   "outputs": [],
   "source": [
    "import numpy as np\n",
    "import pandas as pd\n",
    "import cvxpy as cp"
   ]
  },
  {
   "cell_type": "code",
   "execution_count": 39,
   "metadata": {},
   "outputs": [],
   "source": [
    "payoff_df = pd.read_csv(\"MarvelRivals_Payoff_Matrix.csv\")\n",
    "hero_list = hero_list = list(payoff_df.iloc[:, 0])\n",
    "\n",
    "payoff_df = pd.read_csv(\"MarvelRivals_Payoff_Matrix.csv\",  index_col=0)\n",
    "payoff_matrix = payoff_df.values"
   ]
  },
  {
   "cell_type": "code",
   "execution_count": 40,
   "metadata": {},
   "outputs": [
    {
     "data": {
      "text/plain": [
       "-11.69"
      ]
     },
     "execution_count": 40,
     "metadata": {},
     "output_type": "execute_result"
    }
   ],
   "source": [
    "def team_to_vector(selected_heroes, hero_list):\n",
    "    vector = np.zeros(len(hero_list), dtype=int)\n",
    "    for i, hero in enumerate(hero_list):\n",
    "        if hero in selected_heroes:\n",
    "            vector[i] = 1\n",
    "    return vector\n",
    "    \n",
    "def vector_to_team(binary_vector, hero_list):\n",
    "    selected_heroes = [hero_list[i] for i in range(len(hero_list)) if binary_vector[i] == 1]\n",
    "    return selected_heroes\n",
    "\n",
    "Avengers = [\"Black Widow\", \"Iron Man\", \"Thor\", \"Hulk\", \"Hawkeye\", \"Captain America\"]\n",
    "FantasticFour = [\"Invisible Woman\", \"The Thing\", \"Human Torch\", \"Mister Fantastic\", \"Spider Man\", \"Wolverine\"]\n",
    "Guardians = [\"Mantis\", \"Rocket Raccoon\", \"Adam Warlock\", \"Star Lord\", \"Groot\", \"Venom\"]\n",
    "Xmen = [\"Magneto\", \"Psylocke\", \"Wolverine\", \"Magik\", \"Storm\", \"Namor\"]\n",
    "BestTeam = [\"Magneto\", \"Doctor Strange\", \"The Punisher\", \"Scarlet Witch\", \"Cloak & Dagger\", \"Loki\"]\n",
    "\n",
    "rowPlayer = team_to_vector(BestTeam, hero_list)\n",
    "columnPlayer = team_to_vector(Xmen, hero_list)\n",
    "\n",
    "result = rowPlayer.T @ payoff_matrix @ columnPlayer\n",
    "result"
   ]
  },
  {
   "cell_type": "code",
   "execution_count": 41,
   "metadata": {},
   "outputs": [
    {
     "data": {
      "text/plain": [
       "21.91"
      ]
     },
     "execution_count": 41,
     "metadata": {},
     "output_type": "execute_result"
    }
   ],
   "source": [
    "x = cp.Variable(37, boolean=True)\n",
    "y = team_to_vector(FantasticFour, hero_list)\n",
    "\n",
    "constraint_0 = [cp.sum(x) == 6]\n",
    "constraint_1 = [cp.sum(y) == 6]\n",
    "\n",
    "obj = cp.Maximize(x.T @ payoff_matrix @ y)\n",
    "prob = cp.Problem(obj,constraint_0+constraint_1)\n",
    "prob.solve()"
   ]
  },
  {
   "cell_type": "code",
   "execution_count": 42,
   "metadata": {},
   "outputs": [
    {
     "data": {
      "text/plain": [
       "['Captain America', 'Peni Parker', 'Thor', 'Magik', 'Storm', 'Rocket Raccoon']"
      ]
     },
     "execution_count": 42,
     "metadata": {},
     "output_type": "execute_result"
    }
   ],
   "source": [
    "vector_to_team(x.value, hero_list)"
   ]
  },
  {
   "cell_type": "code",
   "execution_count": null,
   "metadata": {},
   "outputs": [],
   "source": []
  }
 ],
 "metadata": {
  "kernelspec": {
   "display_name": "Python 3 (ipykernel)",
   "language": "python",
   "name": "python3"
  },
  "language_info": {
   "codemirror_mode": {
    "name": "ipython",
    "version": 3
   },
   "file_extension": ".py",
   "mimetype": "text/x-python",
   "name": "python",
   "nbconvert_exporter": "python",
   "pygments_lexer": "ipython3",
   "version": "3.12.5"
  }
 },
 "nbformat": 4,
 "nbformat_minor": 4
}
