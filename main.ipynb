{
 "cells": [
  {
   "cell_type": "code",
   "execution_count": 1,
   "metadata": {},
   "outputs": [],
   "source": [
    "import numpy as np\n",
    "import pandas as pd\n",
    "import cvxpy as cp\n",
    "import nashpy as nash\n",
    "import pulp\n",
    "from itertools import combinations"
   ]
  },
  {
   "cell_type": "markdown",
   "metadata": {},
   "source": [
    "# Set-Up:\n",
    "\n",
    "- Dataframe Loading\n",
    "- Base Tradeoff Matrix\n",
    "- Team - Vector Conversion Functions\n",
    "- Example Teams"
   ]
  },
  {
   "cell_type": "code",
   "execution_count": null,
   "metadata": {},
   "outputs": [],
   "source": [
    "#Global Variables, don't change these, unless you are me:\n",
    "\n",
    "payoff_df = pd.read_csv(\"MarvelRivals_Payoff_Matrix.csv\")\n",
    "hero_list = hero_list = list(payoff_df.iloc[:, 0])\n",
    "\n",
    "payoff_df = pd.read_csv(\"MarvelRivals_Payoff_Matrix.csv\",  index_col=0)\n",
    "payoff_matrix = payoff_df.values\n",
    "\n",
    "def team_to_vector(selected_heroes):\n",
    "    vector = np.zeros(len(hero_list), dtype=int)\n",
    "    for i, hero in enumerate(hero_list):\n",
    "        if hero in selected_heroes:\n",
    "            vector[i] = 1\n",
    "    return vector\n",
    "    \n",
    "def vector_to_team(binary_vector):\n",
    "    selected_heroes = [hero_list[i] for i in range(len(hero_list)) if binary_vector[i] == 1]\n",
    "    return selected_heroes\n",
    "\n",
    "Avengers = [\"Black Widow\", \"Iron Man\", \"Thor\", \"Hulk\", \"Hawkeye\", \"Captain America\"]\n",
    "FantasticFour = [\"Invisible Woman\", \"The Thing\", \"Human Torch\", \"Mister Fantastic\", \"Spider Man\", \"Wolverine\"]\n",
    "Guardians = [\"Mantis\", \"Rocket Raccoon\", \"Adam Warlock\", \"Star Lord\", \"Groot\", \"Venom\"]\n",
    "Xmen = [\"Magneto\", \"Psylocke\", \"Wolverine\", \"Magik\", \"Storm\", \"Namor\"]\n",
    "RandomTeam = [\"Magneto\", \"Doctor Strange\", \"The Punisher\", \"Scarlet Witch\", \"Cloak & Dagger\", \"Loki\"]\n",
    "\n",
    "bestTeam = ['Captain America', 'Iron Fist', 'Magik', 'Storm', 'Mantis', 'Rocket Raccoon']"
   ]
  },
  {
   "cell_type": "code",
   "execution_count": 32,
   "metadata": {},
   "outputs": [
    {
     "data": {
      "text/plain": [
       "np.float64(0.0)"
      ]
     },
     "execution_count": 32,
     "metadata": {},
     "output_type": "execute_result"
    }
   ],
   "source": [
    "MyTeam = ['Doctor Strange', 'Groot', 'The Punisher', 'Winter Soldier', \"Cloak & Dagger\", \"Invisible Woman\"]\n",
    "OpponentTeam = [\"Doctor Strange\", \"Peni Parker\", \"Magik\", \"Moon Knight\", \"Cloak & Dagger\", \"Invisible Woman\"]\n",
    "\n",
    "rowPlayer = team_to_vector(Guardians)\n",
    "columnPlayer = team_to_vector(Guardians)\n",
    "\n",
    "result = rowPlayer.T @ payoff_matrix @ columnPlayer\n",
    "result"
   ]
  },
  {
   "cell_type": "markdown",
   "metadata": {},
   "source": [
    "# 1.0: Base Question: Optimal Conter Strategy given known opponent Strategy\n",
    "\n",
    "It turns out, given an opponent team, it is relatively easy to figure out the optimal conter team using cvxpy."
   ]
  },
  {
   "cell_type": "code",
   "execution_count": null,
   "metadata": {},
   "outputs": [],
   "source": [
    "# In order to use, first use team_to_vector() to convert the team into a binary vector\n",
    "def base_optimal_conter(opponent_team):\n",
    "    x = cp.Variable(37, boolean=True)\n",
    "    y = opponent_team\n",
    "    constraint_0 = [cp.sum(x) == 6]\n",
    "    constraint_1 = [cp.sum(y) == 6]\n",
    "    \n",
    "    obj = cp.Maximize(x.T @ payoff_matrix @ y)\n",
    "    prob = cp.Problem(obj,constraint_0+constraint_1)\n",
    "    prob.solve()\n",
    "\n",
    "    return x.value\n",
    "\n",
    "def base_optimal_conter_info(opponent_team):\n",
    "    n = 37\n",
    "    x = cp.Variable(n, boolean=True)\n",
    "    y = opponent_team\n",
    "    constraint_0 = [cp.sum(x) == 6]\n",
    "    constraint_1 = [cp.sum(y) == 6]\n",
    "    \n",
    "    obj = cp.Maximize(x.T @ payoff_matrix @ y)\n",
    "    prob = cp.Problem(obj,constraint_0+constraint_1)\n",
    "    prob.solve()\n",
    "\n",
    "    optimal_team = vector_to_team(x.value.round())\n",
    "    expected_value = x.value.T @ payoff_matrix @ y\n",
    "\n",
    "    print(\"Optimal Team:\")\n",
    "    for hero in optimal_team:\n",
    "        print(f\"-{hero}\")\n",
    "    print(f\"Expected Utility Score of (x^T * A * y) is: {expected_value:.2f}\")\n",
    "    return x.value\n",
    "\n",
    "# This finds an optimal conter team whose members are excluded from banned_list (see session 1.2)\n",
    "def optimal_counter_with_ban(opponent_team, banned_list):\n",
    "\n",
    "    n = 37\n",
    "    if np.any((opponent_team + banned_list) > 1):\n",
    "        raise ValueError(\"Invalid input: A hero cannot be both in opponent_team and banned_list!\")\n",
    "    \n",
    "    x = cp.Variable(n, boolean=True)\n",
    "    constraint_0 = [cp.sum(x) == 6]\n",
    "    constraint_1 = [banned_list + x <= 1] \n",
    "\n",
    "    obj = cp.Maximize(cp.sum(cp.multiply(x, payoff_matrix @ opponent_team)))\n",
    "\n",
    "    prob = cp.Problem(obj, constraint_0 + constraint_1)\n",
    "    prob.solve()\n",
    "\n",
    "    counter_team_vector = x.value.round()\n",
    "    counter_team_heroes = vector_to_team(counter_team_vector)\n",
    "\n",
    "    expected_value = np.sum(np.multiply(counter_team_vector, payoff_matrix @ opponent_team))\n",
    "\n",
    "    print(\"Optimal Counter Team (Without Banned Heroes):\")\n",
    "    for hero in counter_team_heroes:\n",
    "        print(f\"- {hero}\") \n",
    "\n",
    "    print(f\"Expected Utility Score with Ban (x^T * A * y): {expected_value:.2f}\")\n",
    "\n",
    "    return counter_team_vector"
   ]
  },
  {
   "cell_type": "code",
   "execution_count": 6,
   "metadata": {},
   "outputs": [
    {
     "name": "stdout",
     "output_type": "stream",
     "text": [
      "Best Conter to OpponentTeam: Captain America, Black Panther, Magik, Storm, Mantis, Rocket Raccoon is:\n",
      "Optimal Team:\n",
      "-Captain America\n",
      "-Iron Fist\n",
      "-Magik\n",
      "-Storm\n",
      "-Mantis\n",
      "-Rocket Raccoon\n",
      "Expected Utility Score of (x^T * A * y) is: 0.35\n"
     ]
    }
   ],
   "source": [
    "# Example Usage:\n",
    "OpponentTeam = [\"Doctor Strange\", \"Peni Parker\", \"Magik\", \"Moon Knight\", \"Cloak & Dagger\", \"Invisible Woman\"]\n",
    "y = team_to_vector(bestTeam)\n",
    "print(\"Best Conter to OpponentTeam:\", ', '.join(bestTeam), \"is:\")\n",
    "OpponentTeamConter = base_optimal_conter_info(y)"
   ]
  },
  {
   "cell_type": "code",
   "execution_count": 10,
   "metadata": {},
   "outputs": [
    {
     "name": "stdout",
     "output_type": "stream",
     "text": [
      "Optimal Counter Team (Avoiding Banned Heroes):\n",
      "- Captain America\n",
      "- Iron Fist\n",
      "- Magik\n",
      "- Storm\n",
      "- Mantis\n",
      "- Rocket Raccoon\n",
      "Expected Utility Score with Ban (x^T * A * y): 0.35\n"
     ]
    }
   ],
   "source": [
    "optimal_ban = team_to_vector(['Loki', 'Lunar Snow', \"Wolverine\", \"Peni Parker\"])\n",
    "y = team_to_vector(bestTeam) \n",
    "result_with_ban = optimal_counter_with_ban(y, optimal_ban)"
   ]
  },
  {
   "cell_type": "markdown",
   "metadata": {},
   "source": [
    "# 1.1: Secondary Question: Optimal Solution to Von Neumann Min Max Equation\n",
    "\n",
    "Since we have defined the row and column players and it clearly is a zero sum game, we can figure out he equilbrium state and its cooresponding optimal strategy of it, hence the \"best team\" highlightened in von neumann minimax theorem"
   ]
  },
  {
   "cell_type": "code",
   "execution_count": 15,
   "metadata": {},
   "outputs": [],
   "source": [
    "# 37 choose 6 is not very big so use Brutal Force Method:\n",
    "def min_max_solution(payoff_matrix):\n",
    "    n = payoff_matrix.shape[0]\n",
    "    assert payoff_matrix.shape == (37, 37), \"Expected a 37x37 payoff matrix, if it is bigger, this will take much longer.\"\n",
    "    \n",
    "    best_value = float('-inf')\n",
    "    best_vector = None\n",
    "    \n",
    "    for row_subset in combinations(range(n), 6):\n",
    "        c = np.sum(payoff_matrix[list(row_subset), :], axis=0)\n",
    "        \n",
    "        chosen_cols = np.partition(c, 6)[:6]\n",
    "        payoff = np.sum(chosen_cols)\n",
    "        \n",
    "        if payoff > best_value:\n",
    "            best_value = payoff\n",
    "            vector = np.zeros(n, dtype=int)\n",
    "            vector[list(row_subset)] = 1\n",
    "            best_vector = vector\n",
    "\n",
    "    print(f\"Row-player guaranteed payoff is greater than: {best_value:.2f}\")\n",
    "    BestTeam = vector_to_team(vector)\n",
    "    print(\"Von Neumann MinMax Best team is:\", ', '.join(BestTeam))\n",
    "    \n",
    "    return best_vector"
   ]
  },
  {
   "cell_type": "code",
   "execution_count": 16,
   "metadata": {},
   "outputs": [
    {
     "name": "stdout",
     "output_type": "stream",
     "text": [
      "Row-player guaranteed payoff is greater than: -0.12\n",
      "Von Neumann MinMax Best team is: Captain America, Iron Fist, Magik, Storm, Mantis, Rocket Raccoon\n",
      "Best Conter to von Neumann optimal team is:\n",
      "Optimal Team:\n",
      "-Captain America\n",
      "-Peni Parker\n",
      "-Magik\n",
      "-Storm\n",
      "-Mantis\n",
      "-Rocket Raccoon\n",
      "Expected Utility Score of (x^T * A * y) is: 0.12\n"
     ]
    }
   ],
   "source": [
    "OptimalVector = min_max_solution(payoff_matrix)\n",
    "print(\"Best Conter to von Neumann optimal team is:\")\n",
    "BestTeamConter = base_optimal_conter_info(OptimalVector)"
   ]
  },
  {
   "cell_type": "markdown",
   "metadata": {},
   "source": [
    "# 1.2: Secondary Question: Optimal Character Ban Strategy\n",
    "\n",
    "In the game, once you hit a certain rank (by being good at the game), the game introduce a new mechanism where a team can collectively ban two characters where the opponent team can no longer choose, this makes the character counter strategy more interesting."
   ]
  },
  {
   "cell_type": "code",
   "execution_count": 17,
   "metadata": {},
   "outputs": [],
   "source": [
    "def who_to_ban(your_team):\n",
    "    n = 37\n",
    "    b = cp.Variable(n, boolean=True) \n",
    "    x = cp.Variable(n, boolean=True) \n",
    "\n",
    "    constraint_0 = [cp.sum(b) == 2]  \n",
    "    constraint_1 = [cp.sum(x) == 6]  \n",
    "    constraint_2 = [b + your_team <= 1]\n",
    "\n",
    "    obj = cp.Minimize(cp.sum(cp.multiply(x, payoff_matrix @ your_team)))\n",
    "\n",
    "    prob = cp.Problem(obj, constraint_0 + constraint_1 + constraint_2)\n",
    "    prob.solve()\n",
    "\n",
    "    banned_vector = b.value.round()\n",
    "    banned_heroes = np.where(banned_vector == 1)[0]  # Indices of banned heroes\n",
    "    banned_hero_name = vector_to_team(banned_vector)\n",
    "\n",
    "    opponent_team = x.value.round()\n",
    "\n",
    "    print(\"Heroes to Ban:\")\n",
    "    for hero in banned_hero_name:\n",
    "        print(f\"- {hero}\") \n",
    "\n",
    "    return banned_vector"
   ]
  },
  {
   "cell_type": "code",
   "execution_count": 18,
   "metadata": {},
   "outputs": [
    {
     "name": "stdout",
     "output_type": "stream",
     "text": [
      "Heroes to Ban:\n",
      "- Loki\n",
      "- Luna Snow\n",
      "Optimal Counter Team (Avoiding Banned Heroes):\n",
      "- Captain America\n",
      "- Peni Parker\n",
      "- Magik\n",
      "- Storm\n",
      "- Mantis\n",
      "- Rocket Raccoon\n",
      "Expected Utility Score with Ban (x^T * A * y): 0.12\n"
     ]
    }
   ],
   "source": [
    "banned_list = who_to_ban(OptimalVector)\n",
    "result_with_ban = optimal_counter_with_ban(OptimalVector, banned_list)"
   ]
  },
  {
   "cell_type": "markdown",
   "metadata": {},
   "source": [
    "# 2.0: Base Question: Optimal Strategies for Team Ups Constraints\n",
    "\n",
    "Problem: Maximize the number of possible team ups, with constraints:\n",
    "- A team consists of 6 characters\n",
    "- maximize win rate while as many heroes as possible is in a team up\n",
    "\n",
    "\n",
    "team ups are powerful, but their strength is hard to quantify, therefore not very useful for solving the main problem: In this subproblem, we explore the ideal team composition where as many heroes as possible must be included in a team up while maintaining a standard team structure (2-3 strategists, 1-2 vanguards, 1-2 duelists) to maximize the team's win rate.\n",
    "\n",
    "using the win rate of mathups\n",
    "\n",
    "we were able to find 23 different teams with 5 team ups, which is the maximum number of team ups a team can get.\n",
    "\n",
    "Using the matchup winrate matrix, we get this result: \n",
    "...\n",
    "\n",
    "\n",
    "a team should consist of 2 of each class, but when this is enforced, we see that there is no team with 2 of each class with 5 team ups.\n"
   ]
  },
  {
   "cell_type": "code",
   "execution_count": 24,
   "metadata": {},
   "outputs": [],
   "source": [
    "team_ups = [\n",
    "    (\"Adam Warlock\", \"Star Lord\"),\n",
    "    (\"Adam Warlock\", \"Mantis\"),\n",
    "    (\"Thor\", \"Captain America\"),\n",
    "    (\"Thor\", \"Storm\"),\n",
    "    (\"Hela\", \"Loki\"),\n",
    "    (\"Hela\", \"Thor\"),\n",
    "    (\"Venom\", \"Spider Man\"),\n",
    "    (\"Venom\", \"Peni Parker\"),\n",
    "    (\"Hulk\", \"Doctor Strange\"),\n",
    "    (\"Hulk\", \"Iron Man\"),\n",
    "    (\"Rocket Raccoon\", \"The Punisher\"),\n",
    "    (\"Rocket Raccoon\", \"Winter Soldier\"),\n",
    "    (\"Invisible Woman\", \"The Thing\"),\n",
    "    (\"Invisible Woman\", \"Mister Fantastic\"),\n",
    "    (\"Magik\", \"Black Panther\"),\n",
    "    (\"Magik\", \"Psylocke\"),\n",
    "    (\"Human Torch\", \"Storm\"),\n",
    "    (\"Iron Fist\", \"Luna Snow\"),\n",
    "    (\"Spider Man\", \"Squirrel Girl\"),\n",
    "    (\"Scarlet Witch\", \"Magneto\"),\n",
    "    (\"Luna Snow\", \"Namor\"),\n",
    "    (\"Luna Snow\", \"Jeff The Land Shark\"),\n",
    "    (\"Groot\", \"Rocket Raccoon\"),\n",
    "    (\"Groot\", \"Jeff The Land Shark\"),\n",
    "    (\"Hulk\", \"Wolverine\"),\n",
    "    (\"Invisible Woman\", \"Human Torch\"),\n",
    "    (\"The Thing\", \"Wolverine\"),\n",
    "    (\"Cloak & Dagger\", \"Moon Knight\"),\n",
    "    (\"Hawkeye\", \"Black Widow\")\n",
    "]\n",
    "\n",
    "win_rate_matrix = pd.read_csv(\"MarvelRivals_WinRate_matrix.csv\", index_col=0)\n",
    "\n",
    "heroes = sorted(hero_list)\n",
    "\n",
    "\n",
    "vanguards = [\"Captain America\", \"Doctor Strange\", \"Groot\", \"Hulk\", \"Magneto\", \"Peni Parker\", \"The Thing\", \"Thor\", \"Venom\"]\n",
    "duelists = [\"Black Panther\", \"Black Widow\", \"Hawkeye\", \"Hela\", \"Human Torch\", \"Iron Fist\", \"Iron Man\", \"Magik\", \"Mister Fantastic\",\n",
    "            \"Moon Knight\", \"Namor\", \"Psylocke\", \"Scarlet Witch\", \"Spider Man\", \"Squirrel Girl\", \"Star Lord\", \"Storm\", \"The Punisher\", \n",
    "            \"Winter Soldier\",\"Wolverine\"]\n",
    "strategists = [\"Adam Warlock\", \"Cloak & Dagger\", \"Invisible Woman\", \"Jeff The Land Shark\", \"Loki\", \"Luna Snow\", \"Mantis\", \"Rocket Raccoon\"]\n",
    "\n",
    "if len(vanguards) + len(duelists) + len(strategists) != len(heroes):\n",
    "    raise ValueError(\"The number of heroes is not correct\")\n",
    "\n",
    "hero_ids = {hero: idx for idx, hero in enumerate(heroes)}\n",
    "\n",
    "vanguard_ids = [hero_ids[hero] for hero in vanguards]\n",
    "duelist_ids = [hero_ids[hero] for hero in duelists]\n",
    "strategist_ids = [hero_ids[hero] for hero in strategists]\n",
    "\n",
    "team_up_tuples = [(hero_ids[a], hero_ids[b]) for a, b in sorted(team_ups) if hero_ids[a] < hero_ids[b]]\n",
    "\n",
    "hero_avg_win_rates = win_rate_matrix.mean(axis=1).values\n",
    "\n",
    "def printsolution(problem, x, y):\n",
    "    selected_heroes = [heroes[i] for i in range(len(heroes)) if x.value[i] > 0.5]\n",
    "\n",
    "    selected_team_ups = [(heroes[i], heroes[j]) for (i, j) in team_up_tuples if y[(i, j)].value > 0.5]\n",
    "\n",
    "    # Calculate the average win rate using hero names\n",
    "    selected_hero_avg_win_rates = [\n",
    "    hero_avg_win_rates[i] for i in range(len(heroes)) if x.value[i] > 0.5\n",
    "]\n",
    "\n",
    "# Print the individual averages\n",
    "    print(\"\\nSelected Heroes' Average Win Rates:\")\n",
    "    for hero, rate in zip(selected_heroes, selected_hero_avg_win_rates):\n",
    "        print(f\"- {hero}: {rate:.2f}%\")\n",
    "\n",
    "    average_win_rate = problem.objective.value\n",
    "\n",
    "    print(\"\\nSelected Heroes:\")\n",
    "    for hero in selected_heroes:\n",
    "        print(\"-\", hero, \": Vanguard\" if hero in vanguards else \"Duelist\" if hero in duelists else \"Strategist\")\n",
    "\n",
    "    print(\"\\nSelected Team-Ups:\")\n",
    "    for duo in selected_team_ups:\n",
    "        print(\"-\", duo)\n",
    "\n",
    "    print(f\"\\nAverage Win Rate of Selected Team-Ups: {average_win_rate/600:.2%}\")\n",
    "    \n"
   ]
  },
  {
   "cell_type": "code",
   "execution_count": 25,
   "metadata": {},
   "outputs": [],
   "source": [
    "def solve_teamups(teamUpCount, classLimit = False):\n",
    "    x = cp.Variable(len(heroes), boolean=True) \n",
    "    y = {t: cp.Variable(boolean=True) for t in team_up_tuples}\n",
    "\n",
    "    objective = cp.Maximize(cp.sum(cp.multiply(x, hero_avg_win_rates)))\n",
    "    \n",
    "    constraints = [\n",
    "        cp.sum(x) == 6,\n",
    "        cp.sum([y[t] for t in team_up_tuples]) == teamUpCount\n",
    "    ]\n",
    "    if classLimit:\n",
    "        constraints.extend([\n",
    "        cp.sum(x[vanguard_ids]) >= 1,   \n",
    "        cp.sum(x[vanguard_ids]) <= 2,\n",
    "        \n",
    "        cp.sum(x[duelist_ids]) >= 1,\n",
    "        cp.sum(x[duelist_ids]) <= 2,\n",
    "        \n",
    "        cp.sum(x[strategist_ids]) <= 3   \n",
    "        ])\n",
    "    \n",
    "    # boolean AND operation\n",
    "    for (i, j) in team_up_tuples:\n",
    "        constraints.append(y[(i, j)] <= x[i])\n",
    "        constraints.append(y[(i, j)] <= x[j])\n",
    "        constraints.append(y[(i, j)] >= x[i] + x[j] - 1)\n",
    "    problem = cp.Problem(objective, constraints)\n",
    "    problem.solve()\n",
    "    print(problem.status)\n",
    "    if problem.status == cp.OPTIMAL:\n",
    "        printsolution(problem, x, y)"
   ]
  },
  {
   "cell_type": "code",
   "execution_count": 26,
   "metadata": {},
   "outputs": [
    {
     "name": "stdout",
     "output_type": "stream",
     "text": [
      "optimal\n",
      "\n",
      "Selected Heroes' Average Win Rates:\n",
      "- Hulk: 52.22%\n",
      "- Invisible Woman: 47.21%\n",
      "- Iron Man: 48.98%\n",
      "- Mister Fantastic: 49.50%\n",
      "- The Thing: 45.46%\n",
      "- Wolverine: 54.37%\n",
      "\n",
      "Selected Heroes:\n",
      "- Hulk : Vanguard\n",
      "- Invisible Woman Strategist\n",
      "- Iron Man Duelist\n",
      "- Mister Fantastic Duelist\n",
      "- The Thing : Vanguard\n",
      "- Wolverine Duelist\n",
      "\n",
      "Selected Team-Ups:\n",
      "- ('Hulk', 'Iron Man')\n",
      "- ('Hulk', 'Wolverine')\n",
      "- ('Invisible Woman', 'Mister Fantastic')\n",
      "- ('Invisible Woman', 'The Thing')\n",
      "- ('The Thing', 'Wolverine')\n",
      "\n",
      "Average Win Rate of Selected Team-Ups: 49.62%\n"
     ]
    }
   ],
   "source": [
    "solve_teamups(5, classLimit=False)"
   ]
  },
  {
   "cell_type": "code",
   "execution_count": 27,
   "metadata": {},
   "outputs": [
    {
     "name": "stdout",
     "output_type": "stream",
     "text": [
      "infeasible\n"
     ]
    }
   ],
   "source": [
    "solve_teamups(5, classLimit=True)"
   ]
  },
  {
   "cell_type": "code",
   "execution_count": 28,
   "metadata": {},
   "outputs": [
    {
     "name": "stdout",
     "output_type": "stream",
     "text": [
      "optimal\n",
      "\n",
      "Selected Heroes' Average Win Rates:\n",
      "- Hulk: 52.22%\n",
      "- Invisible Woman: 47.21%\n",
      "- Iron Man: 48.98%\n",
      "- Mister Fantastic: 49.50%\n",
      "- The Thing: 45.46%\n",
      "- Wolverine: 54.37%\n",
      "\n",
      "Selected Heroes:\n",
      "- Hulk : Vanguard\n",
      "- Invisible Woman Strategist\n",
      "- Iron Man Duelist\n",
      "- Mister Fantastic Duelist\n",
      "- The Thing : Vanguard\n",
      "- Wolverine Duelist\n",
      "\n",
      "Selected Team-Ups:\n",
      "- ('Hulk', 'Iron Man')\n",
      "- ('Hulk', 'Wolverine')\n",
      "- ('Invisible Woman', 'Mister Fantastic')\n",
      "- ('Invisible Woman', 'The Thing')\n",
      "- ('The Thing', 'Wolverine')\n",
      "\n",
      "Average Win Rate of Selected Team-Ups: 49.62%\n"
     ]
    }
   ],
   "source": [
    "solve_teamups(5, classLimit=False)"
   ]
  },
  {
   "cell_type": "code",
   "execution_count": 29,
   "metadata": {},
   "outputs": [
    {
     "name": "stdout",
     "output_type": "stream",
     "text": [
      "optimal\n",
      "\n",
      "Selected Heroes' Average Win Rates:\n",
      "- Groot: 50.94%\n",
      "- Hulk: 52.22%\n",
      "- Jeff The Land Shark: 51.85%\n",
      "- Rocket Raccoon: 55.50%\n",
      "- Winter Soldier: 53.12%\n",
      "- Wolverine: 54.37%\n",
      "\n",
      "Selected Heroes:\n",
      "- Groot : Vanguard\n",
      "- Hulk : Vanguard\n",
      "- Jeff The Land Shark Strategist\n",
      "- Rocket Raccoon Strategist\n",
      "- Winter Soldier Duelist\n",
      "- Wolverine Duelist\n",
      "\n",
      "Selected Team-Ups:\n",
      "- ('Groot', 'Jeff The Land Shark')\n",
      "- ('Groot', 'Rocket Raccoon')\n",
      "- ('Hulk', 'Wolverine')\n",
      "- ('Rocket Raccoon', 'Winter Soldier')\n",
      "\n",
      "Average Win Rate of Selected Team-Ups: 53.00%\n"
     ]
    }
   ],
   "source": [
    "solve_teamups(4, classLimit=True)"
   ]
  },
  {
   "cell_type": "code",
   "execution_count": null,
   "metadata": {},
   "outputs": [],
   "source": []
  }
 ],
 "metadata": {
  "kernelspec": {
   "display_name": "Python 3",
   "language": "python",
   "name": "python3"
  },
  "language_info": {
   "codemirror_mode": {
    "name": "ipython",
    "version": 3
   },
   "file_extension": ".py",
   "mimetype": "text/x-python",
   "name": "python",
   "nbconvert_exporter": "python",
   "pygments_lexer": "ipython3",
   "version": "3.13.0"
  }
 },
 "nbformat": 4,
 "nbformat_minor": 4
}
