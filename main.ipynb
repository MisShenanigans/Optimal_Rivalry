{
 "cells": [
  {
   "cell_type": "code",
   "execution_count": 7,
   "metadata": {},
   "outputs": [],
   "source": [
    "import numpy as np\n",
    "import pandas as pd\n",
    "import cvxpy as cp"
   ]
  },
  {
   "cell_type": "markdown",
   "metadata": {},
   "source": [
    "## Set-Up:\n",
    "\n",
    "- Dataframe Loading\n",
    "- Base Tradeoff Matrix\n",
    "- Team - Vector Conversion Functions\n",
    "- Example Teams"
   ]
  },
  {
   "cell_type": "code",
   "execution_count": 8,
   "metadata": {},
   "outputs": [],
   "source": [
    "payoff_df = pd.read_csv(\"MarvelRivals_Payoff_Matrix.csv\")\n",
    "hero_list = hero_list = list(payoff_df.iloc[:, 0])\n",
    "\n",
    "payoff_df = pd.read_csv(\"MarvelRivals_Payoff_Matrix.csv\",  index_col=0)\n",
    "payoff_matrix = payoff_df.values\n",
    "\n",
    "def team_to_vector(selected_heroes, hero_list):\n",
    "    vector = np.zeros(len(hero_list), dtype=int)\n",
    "    for i, hero in enumerate(hero_list):\n",
    "        if hero in selected_heroes:\n",
    "            vector[i] = 1\n",
    "    return vector\n",
    "    \n",
    "def vector_to_team(binary_vector, hero_list):\n",
    "    selected_heroes = [hero_list[i] for i in range(len(hero_list)) if binary_vector[i] == 1]\n",
    "    return selected_heroes\n",
    "\n",
    "Avengers = [\"Black Widow\", \"Iron Man\", \"Thor\", \"Hulk\", \"Hawkeye\", \"Captain America\"]\n",
    "FantasticFour = [\"Invisible Woman\", \"The Thing\", \"Human Torch\", \"Mister Fantastic\", \"Spider Man\", \"Wolverine\"]\n",
    "Guardians = [\"Mantis\", \"Rocket Raccoon\", \"Adam Warlock\", \"Star Lord\", \"Groot\", \"Venom\"]\n",
    "Xmen = [\"Magneto\", \"Psylocke\", \"Wolverine\", \"Magik\", \"Storm\", \"Namor\"]\n",
    "BestTeam = [\"Magneto\", \"Doctor Strange\", \"The Punisher\", \"Scarlet Witch\", \"Cloak & Dagger\", \"Loki\"]"
   ]
  },
  {
   "cell_type": "code",
   "execution_count": 9,
   "metadata": {},
   "outputs": [
    {
     "data": {
      "text/plain": [
       "-11.69"
      ]
     },
     "execution_count": 9,
     "metadata": {},
     "output_type": "execute_result"
    }
   ],
   "source": [
    "rowPlayer = team_to_vector(BestTeam, hero_list)\n",
    "columnPlayer = team_to_vector(Xmen, hero_list)\n",
    "\n",
    "result = rowPlayer.T @ payoff_matrix @ columnPlayer\n",
    "result"
   ]
  },
  {
   "cell_type": "markdown",
   "metadata": {},
   "source": [
    "## Base Question Implementation\n",
    "\n",
    "It turns out, given an opponent team, it is relatively easy to figure out the optimal conter team using cvxpy."
   ]
  },
  {
   "cell_type": "code",
   "execution_count": 10,
   "metadata": {},
   "outputs": [],
   "source": [
    "def base_optimal_conter(opponent_team):\n",
    "    x = cp.Variable(37, boolean=True)\n",
    "    y = team_to_vector(opponent_team, hero_list)\n",
    "    constraint_0 = [cp.sum(x) == 6]\n",
    "    constraint_1 = [cp.sum(y) == 6]\n",
    "    \n",
    "    obj = cp.Maximize(x.T @ payoff_matrix @ y)\n",
    "    prob = cp.Problem(obj,constraint_0+constraint_1)\n",
    "    prob.solve()\n",
    "\n",
    "    optimal_team = vector_to_team(x.value.round(), hero_list)\n",
    "    expected_value = x.value.T @ payoff_matrix @ y\n",
    "\n",
    "    print(\"Optimal Team:\")\n",
    "    for hero in optimal_team:\n",
    "        print(f\"-{hero}\")\n",
    "    print(f\"Expected Utility Score (x^T * A * y) is: {expected_value:.2f}\")\n",
    "    return x.value"
   ]
  },
  {
   "cell_type": "code",
   "execution_count": 11,
   "metadata": {},
   "outputs": [
    {
     "name": "stdout",
     "output_type": "stream",
     "text": [
      "Best Conter to Fantastic Four is:\n",
      "Optimal Team:\n",
      "-Captain America\n",
      "-Peni Parker\n",
      "-Thor\n",
      "-Magik\n",
      "-Storm\n",
      "-Rocket Raccoon\n",
      "Expected Utility Score (x^T * A * y) is: 21.91\n"
     ]
    }
   ],
   "source": [
    "print(f\"Best Conter to Fantastic Four is:\")\n",
    "FantasticFourConter = base_optimal_conter(FantasticFour)"
   ]
  },
  {
   "cell_type": "code",
   "execution_count": null,
   "metadata": {},
   "outputs": [],
   "source": []
  }
 ],
 "metadata": {
  "kernelspec": {
   "display_name": "Python 3 (ipykernel)",
   "language": "python",
   "name": "python3"
  },
  "language_info": {
   "codemirror_mode": {
    "name": "ipython",
    "version": 3
   },
   "file_extension": ".py",
   "mimetype": "text/x-python",
   "name": "python",
   "nbconvert_exporter": "python",
   "pygments_lexer": "ipython3",
   "version": "3.12.5"
  }
 },
 "nbformat": 4,
 "nbformat_minor": 4
}
