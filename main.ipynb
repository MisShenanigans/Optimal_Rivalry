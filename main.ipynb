{
 "cells": [
  {
   "cell_type": "code",
   "execution_count": 1,
   "metadata": {},
   "outputs": [],
   "source": [
    "import numpy as np\n",
    "import pandas as pd\n",
    "import cvxpy as cp\n",
    "import nashpy as nash\n",
    "import pulp\n",
    "from itertools import combinations"
   ]
  },
  {
   "cell_type": "markdown",
   "metadata": {},
   "source": [
    "## Set-Up:\n",
    "\n",
    "- Dataframe Loading\n",
    "- Base Tradeoff Matrix\n",
    "- Team - Vector Conversion Functions\n",
    "- Example Teams"
   ]
  },
  {
   "cell_type": "code",
   "execution_count": 22,
   "metadata": {},
   "outputs": [],
   "source": [
    "#Global Variables, don't change these, unless you are me:\n",
    "\n",
    "payoff_df = pd.read_csv(\"MarvelRivals_Payoff_Matrix.csv\")\n",
    "hero_list = hero_list = list(payoff_df.iloc[:, 0])\n",
    "\n",
    "payoff_df = pd.read_csv(\"MarvelRivals_Payoff_Matrix.csv\",  index_col=0)\n",
    "payoff_matrix = payoff_df.values\n",
    "\n",
    "def team_to_vector(selected_heroes):\n",
    "    vector = np.zeros(len(hero_list), dtype=int)\n",
    "    for i, hero in enumerate(hero_list):\n",
    "        if hero in selected_heroes:\n",
    "            vector[i] = 1\n",
    "    return vector\n",
    "    \n",
    "def vector_to_team(binary_vector):\n",
    "    selected_heroes = [hero_list[i] for i in range(len(hero_list)) if binary_vector[i] == 1]\n",
    "    return selected_heroes\n",
    "\n",
    "Avengers = [\"Black Widow\", \"Iron Man\", \"Thor\", \"Hulk\", \"Hawkeye\", \"Captain America\"]\n",
    "FantasticFour = [\"Invisible Woman\", \"The Thing\", \"Human Torch\", \"Mister Fantastic\", \"Spider Man\", \"Wolverine\"]\n",
    "Guardians = [\"Mantis\", \"Rocket Raccoon\", \"Adam Warlock\", \"Star Lord\", \"Groot\", \"Venom\"]\n",
    "Xmen = [\"Magneto\", \"Psylocke\", \"Wolverine\", \"Magik\", \"Storm\", \"Namor\"]\n",
    "RandomTeam = [\"Magneto\", \"Doctor Strange\", \"The Punisher\", \"Scarlet Witch\", \"Cloak & Dagger\", \"Loki\"]\n",
    "\n",
    "bestTeam = ['Captain America', 'Black Panther', 'Magik', 'Storm', 'Mantis', 'Rocket Raccoon']"
   ]
  },
  {
   "cell_type": "code",
   "execution_count": 23,
   "metadata": {},
   "outputs": [
    {
     "data": {
      "text/plain": [
       "np.float64(0.0)"
      ]
     },
     "execution_count": 23,
     "metadata": {},
     "output_type": "execute_result"
    }
   ],
   "source": [
    "MyTeam = ['Doctor Strange', 'Groot', 'The Punisher', 'Winter Soldier', \"Cloak & Dagger\", \"Invisible Woman\"]\n",
    "OpponentTeam = [\"Doctor Strange\", \"Peni Parker\", \"Magik\", \"Moon Knight\", \"Cloak & Dagger\", \"Invisible Woman\"]\n",
    "\n",
    "rowPlayer = team_to_vector(Guardians)\n",
    "columnPlayer = team_to_vector(Guardians)\n",
    "\n",
    "result = rowPlayer.T @ payoff_matrix @ columnPlayer\n",
    "result"
   ]
  },
  {
   "cell_type": "markdown",
   "metadata": {},
   "source": [
    "## Base Question Implementation: Optimal Conter Strategy given known opponent Strategy\n",
    "\n",
    "It turns out, given an opponent team, it is relatively easy to figure out the optimal conter team using cvxpy."
   ]
  },
  {
   "cell_type": "code",
   "execution_count": 24,
   "metadata": {},
   "outputs": [],
   "source": [
    "# In order to use, first use team_to_vector() to convert the team into a binary vector\n",
    "def base_optimal_conter_info(opponent_team):\n",
    "    x = cp.Variable(37, boolean=True)\n",
    "    y = opponent_team\n",
    "    constraint_0 = [cp.sum(x) == 6]\n",
    "    constraint_1 = [cp.sum(y) == 6]\n",
    "    \n",
    "    obj = cp.Maximize(x.T @ payoff_matrix @ y)\n",
    "    prob = cp.Problem(obj,constraint_0+constraint_1)\n",
    "    prob.solve()\n",
    "\n",
    "    optimal_team = vector_to_team(x.value.round())\n",
    "    expected_value = x.value.T @ payoff_matrix @ y\n",
    "\n",
    "    print(\"Optimal Team:\")\n",
    "    for hero in optimal_team:\n",
    "        print(f\"-{hero}\")\n",
    "    print(f\"Expected Utility Score of (x^T * A * y) is: {expected_value:.2f}\")\n",
    "    return x.value\n",
    "\n",
    "def base_optimal_conter(opponent_team):\n",
    "    x = cp.Variable(37, boolean=True)\n",
    "    y = opponent_team\n",
    "    constraint_0 = [cp.sum(x) == 6]\n",
    "    constraint_1 = [cp.sum(y) == 6]\n",
    "    \n",
    "    obj = cp.Maximize(x.T @ payoff_matrix @ y)\n",
    "    prob = cp.Problem(obj,constraint_0+constraint_1)\n",
    "    prob.solve()\n",
    "\n",
    "    return x.value"
   ]
  },
  {
   "cell_type": "code",
   "execution_count": 28,
   "metadata": {},
   "outputs": [
    {
     "name": "stdout",
     "output_type": "stream",
     "text": [
      "Best Conter to OpponentTeam: Captain America, Black Panther, Magik, Storm, Mantis, Rocket Raccoon is:\n",
      "Optimal Team:\n",
      "-Captain America\n",
      "-Iron Fist\n",
      "-Magik\n",
      "-Storm\n",
      "-Mantis\n",
      "-Rocket Raccoon\n",
      "Expected Utility Score of (x^T * A * y) is: 0.35\n"
     ]
    }
   ],
   "source": [
    "# Example Usage:\n",
    "OpponentTeam = [\"Doctor Strange\", \"Peni Parker\", \"Magik\", \"Moon Knight\", \"Cloak & Dagger\", \"Invisible Woman\"]\n",
    "y = team_to_vector(bestTeam)\n",
    "print(\"Best Conter to OpponentTeam:\", ', '.join(bestTeam), \"is:\")\n",
    "OpponentTeamConter = base_optimal_conter_info(y)"
   ]
  },
  {
   "cell_type": "markdown",
   "metadata": {},
   "source": [
    "## Secondary Question: Optimal Strategies for the payoff matrix\n",
    "\n",
    "Since we have defined the row and column players and it clearly is a zero sum game, we can figure out he equilbrium state and its cooresponding optimal strategy of it, hence the \"best team\" highlightened in von neumann minimax theorem"
   ]
  },
  {
   "cell_type": "code",
   "execution_count": null,
   "metadata": {},
   "outputs": [],
   "source": [
    "# 37 choose 6 is not very big so use Brutal Force Method:\n",
    "def row_player_maximin_binary(payoff_matrix):\n",
    "    n = payoff_matrix.shape[0]\n",
    "    assert payoff_matrix.shape == (37, 37), \"Expected a 37x37 payoff matrix.\"\n",
    "    \n",
    "    best_value = float('-inf')\n",
    "    best_vector = None\n",
    "    \n",
    "    for row_subset in combinations(range(n), 6):\n",
    "        c = np.sum(payoff_matrix[list(row_subset), :], axis=0)\n",
    "        \n",
    "        chosen_cols = np.partition(c, 6)[:6]\n",
    "        payoff = np.sum(chosen_cols)\n",
    "        \n",
    "        if payoff > best_value:\n",
    "            best_value = payoff\n",
    "            vector = np.zeros(n, dtype=int)\n",
    "            vector[list(row_subset)] = 1\n",
    "            best_vector = vector\n",
    "\n",
    "    print(f\"Row-player guaranteed payoff is greater than: {best_value:.2f}\")\n",
    "    BestTeam = vector_to_team(vector)\n",
    "    print(\"Von Neumann MinMax Best team is:\", ', '.join(BestTeam))\n",
    "    \n",
    "    return best_vector"
   ]
  },
  {
   "cell_type": "code",
   "execution_count": 27,
   "metadata": {},
   "outputs": [
    {
     "name": "stdout",
     "output_type": "stream",
     "text": [
      "Row-player guaranteed payoff is greater than: -0.12\n",
      "Von Neumann MinMax Best team is: Captain America, Iron Fist, Magik, Storm, Mantis, Rocket Raccoon\n",
      "Best Conter to von Neumann optimal team is:\n",
      "Optimal Team:\n",
      "-Captain America\n",
      "-Peni Parker\n",
      "-Magik\n",
      "-Storm\n",
      "-Mantis\n",
      "-Rocket Raccoon\n",
      "Expected Utility Score of (x^T * A * y) is: 0.12\n"
     ]
    }
   ],
   "source": [
    "OptimalVector = row_player_maximin_binary(payoff_matrix)\n",
    "print(\"Best Conter to von Neumann optimal team is:\")\n",
    "BestTeamConter = base_optimal_conter_info(OptimalVector)"
   ]
  },
  {
   "cell_type": "markdown",
   "metadata": {},
   "source": [
    "## Secondary Question: Character Ban Stragegy Implementation\n",
    "\n",
    "In the game, once you hit a certain rank (by being good at the game), the game introduce a new mechanism where a team can collectively ban two characters where the opponent team can no longer choose, this makes the character counter strategy more interesting."
   ]
  },
  {
   "cell_type": "code",
   "execution_count": null,
   "metadata": {},
   "outputs": [],
   "source": []
  }
 ],
 "metadata": {
  "kernelspec": {
   "display_name": "Python 3 (ipykernel)",
   "language": "python",
   "name": "python3"
  },
  "language_info": {
   "codemirror_mode": {
    "name": "ipython",
    "version": 3
   },
   "file_extension": ".py",
   "mimetype": "text/x-python",
   "name": "python",
   "nbconvert_exporter": "python",
   "pygments_lexer": "ipython3",
   "version": "3.13.0"
  }
 },
 "nbformat": 4,
 "nbformat_minor": 4
}
