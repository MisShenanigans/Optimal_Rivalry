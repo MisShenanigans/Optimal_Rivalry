{
 "cells": [
  {
   "cell_type": "markdown",
   "metadata": {},
   "source": [
    "Problem: Maximize the number of possible team ups, with constraints:\n",
    "- A team consists of 6 characters\n",
    "- maximize win rate while every hero is in a team up\n",
    "\n",
    "\n",
    "team ups are powerful, but their strength is hard to quantify, therefore not very useful for solving the main problem: In this subproblem, we explore the ideal team composition where as many heroes as possible must be included in a team up while maintaining a standard team structure (2-3 strategists, 1-2 vanguards, 1-2 duelists) to maximize the team's win rate.\n",
    "\n",
    "using the win rate of mathups\n",
    "\n",
    "we were able to find 23 different teams with 5 team ups, which is the maximum number of team ups a team can get.\n",
    "\n",
    "Using the matchup winrate matrix, we get this result: \n",
    "...\n",
    "\n",
    "\n",
    "a team should consist of 2 of each class, but when this is enforced, we see that there is no team with 2 of each class with 5 team ups.\n"
   ]
  },
  {
   "cell_type": "code",
   "execution_count": 1,
   "metadata": {},
   "outputs": [],
   "source": [
    "import cvxpy as cp \n",
    "import pandas as pd\n",
    "import warnings\n",
    "warnings.filterwarnings(\"ignore\")"
   ]
  },
  {
   "cell_type": "code",
   "execution_count": 10,
   "metadata": {},
   "outputs": [],
   "source": [
    "team_ups = [\n",
    "    (\"Adam Warlock\", \"Star Lord\"),\n",
    "    (\"Adam Warlock\", \"Mantis\"),\n",
    "    (\"Thor\", \"Captain America\"),\n",
    "    (\"Thor\", \"Storm\"),\n",
    "    (\"Hela\", \"Loki\"),\n",
    "    (\"Hela\", \"Thor\"),\n",
    "    (\"Venom\", \"Spider Man\"),\n",
    "    (\"Venom\", \"Peni Parker\"),\n",
    "    (\"Hulk\", \"Doctor Strange\"),\n",
    "    (\"Hulk\", \"Iron Man\"),\n",
    "    (\"Rocket Raccoon\", \"The Punisher\"),\n",
    "    (\"Rocket Raccoon\", \"Winter Soldier\"),\n",
    "    (\"Invisible Woman\", \"The Thing\"),\n",
    "    (\"Invisible Woman\", \"Mister Fantastic\"),\n",
    "    (\"Magik\", \"Black Panther\"),\n",
    "    (\"Magik\", \"Psylocke\"),\n",
    "    (\"Human Torch\", \"Storm\"),\n",
    "    (\"Iron Fist\", \"Luna Snow\"),\n",
    "    (\"Spider Man\", \"Squirrel Girl\"),\n",
    "    (\"Scarlet Witch\", \"Magneto\"),\n",
    "    (\"Luna Snow\", \"Namor\"),\n",
    "    (\"Luna Snow\", \"Jeff The Land Shark\"),\n",
    "    (\"Groot\", \"Rocket Raccoon\"),\n",
    "    (\"Groot\", \"Jeff The Land Shark\"),\n",
    "    (\"Hulk\", \"Wolverine\"),\n",
    "    (\"Invisible Woman\", \"Human Torch\"),\n",
    "    (\"The Thing\", \"Wolverine\"),\n",
    "    (\"Cloak & Dagger\", \"Moon Knight\"),\n",
    "    (\"Hawkeye\", \"Black Widow\")\n",
    "]\n",
    "\n",
    "win_rate_matrix = pd.read_csv(\"MarvelRivals_WinRate_matrix.csv\", index_col=0)\n",
    "\n",
    "heroes = [\n",
    "    \"Adam Warlock\", \"Black Panther\", \"Black Widow\", \"Captain America\", \"Cloak & Dagger\",\n",
    "    \"Doctor Strange\", \"Groot\", \"Hawkeye\", \"Hela\", \"Hulk\", \"Human Torch\",\n",
    "    \"Invisible Woman\", \"Iron Fist\", \"Iron Man\", \"Jeff The Land Shark\", \"Loki\",\n",
    "    \"Luna Snow\", \"Magik\", \"Magneto\", \"Mantis\", \"Mister Fantastic\",\n",
    "    \"Moon Knight\", \"Namor\", \"Peni Parker\", \"Psylocke\", \"Rocket Raccoon\",\n",
    "    \"Scarlet Witch\", \"Spider Man\", \"Squirrel Girl\", \"Star Lord\", \"Storm\",\n",
    "    \"The Punisher\", \"The Thing\", \"Thor\", \"Venom\", \"Winter Soldier\", \"Wolverine\"\n",
    "]\n",
    "\n",
    "vanguards = [\"Captain America\", \"Doctor Strange\", \"Groot\", \"Hulk\", \"Magneto\", \"Peni Parker\", \"The Thing\", \"Thor\", \"Venom\"]\n",
    "duelists = [\"Black Panther\", \"Black Widow\", \"Hawkeye\", \"Hela\", \"Human Torch\", \"Iron Fist\", \"Iron Man\", \"Magik\", \"Mister Fantastic\",\n",
    "            \"Moon Knight\", \"Namor\", \"Psylocke\", \"Scarlet Witch\", \"Spider Man\", \"Squirrel Girl\", \"Star Lord\", \"Storm\", \"The Punisher\", \n",
    "            \"Winter Soldier\",\"Wolverine\"]\n",
    "strategists = [\"Adam Warlock\", \"Cloak & Dagger\", \"Invisible Woman\", \"Jeff The Land Shark\", \"Loki\", \"Luna Snow\", \"Mantis\", \"Rocket Raccoon\"]\n",
    "\n",
    "if len(vanguards) + len(duelists) + len(strategists) != len(heroes):\n",
    "    raise ValueError(\"The number of heroes is not correct\")\n",
    "\n",
    "hero_ids = {hero: idx for idx, hero in enumerate(heroes)}\n",
    "\n",
    "vanguard_ids = [hero_ids[hero] for hero in vanguards]\n",
    "duelist_ids = [hero_ids[hero] for hero in duelists]\n",
    "strategist_ids = [hero_ids[hero] for hero in strategists]\n",
    "\n",
    "team_up_tuples = [(hero_ids[a], hero_ids[b]) for a, b in sorted(team_ups) if hero_ids[a] < hero_ids[b]]\n",
    "\n",
    "hero_avg_win_rates = win_rate_matrix.mean(axis=1).values\n",
    "\n",
    "def printsolution(problem, x, y):\n",
    "    selected_heroes = [heroes[i] for i in range(len(heroes)) if x.value[i] > 0.5]\n",
    "\n",
    "    selected_team_ups = [(heroes[i], heroes[j]) for (i, j) in team_up_tuples if y[(i, j)].value > 0.5]\n",
    "\n",
    "    # Calculate the average win rate using hero names\n",
    "    selected_hero_avg_win_rates = [\n",
    "    hero_avg_win_rates[i] for i in range(len(heroes)) if x.value[i] > 0.5\n",
    "]\n",
    "\n",
    "# Print the individual averages\n",
    "    print(\"\\nSelected Heroes' Average Win Rates:\")\n",
    "    for hero, rate in zip(selected_heroes, selected_hero_avg_win_rates):\n",
    "        print(f\"- {hero}: {rate:.2f}%\")\n",
    "\n",
    "    average_win_rate = problem.objective.value\n",
    "\n",
    "    print(\"\\nSelected Heroes:\")\n",
    "    for hero in selected_heroes:\n",
    "        print(\"-\", hero, \": Vanguard\" if hero in vanguards else \"Duelist\" if hero in duelists else \"Strategist\")\n",
    "\n",
    "    print(\"\\nSelected Team-Ups:\")\n",
    "    for duo in selected_team_ups:\n",
    "        print(\"-\", duo)\n",
    "\n",
    "    print(f\"\\nAverage Win Rate of Selected Team-Ups: {average_win_rate/600:.2%}\")\n",
    "    \n"
   ]
  },
  {
   "cell_type": "code",
   "execution_count": 17,
   "metadata": {},
   "outputs": [],
   "source": [
    "def solve_teamups(teamUpCount, classLimit = False):\n",
    "    x = cp.Variable(len(heroes), boolean=True) \n",
    "    y = {t: cp.Variable(boolean=True) for t in team_up_tuples}\n",
    "\n",
    "    objective = cp.Maximize(cp.sum(cp.multiply(x, hero_avg_win_rates)))\n",
    "    \n",
    "    constraints = [\n",
    "        cp.sum(x) == 6,\n",
    "        cp.sum([y[t] for t in team_up_tuples]) == teamUpCount\n",
    "    ]\n",
    "    if classLimit:\n",
    "        constraints.extend([\n",
    "        cp.sum(x[vanguard_ids]) >= 1,   \n",
    "        cp.sum(x[vanguard_ids]) <= 2,\n",
    "        \n",
    "        cp.sum(x[duelist_ids]) >= 1,\n",
    "        cp.sum(x[duelist_ids]) <= 2,\n",
    "        \n",
    "        cp.sum(x[strategist_ids]) <= 3   \n",
    "        ])\n",
    "    \n",
    "    # boolean AND operation\n",
    "    for (i, j) in team_up_tuples:\n",
    "        constraints.append(y[(i, j)] <= x[i])\n",
    "        constraints.append(y[(i, j)] <= x[j])\n",
    "        constraints.append(y[(i, j)] >= x[i] + x[j] - 1)\n",
    "    problem = cp.Problem(objective, constraints)\n",
    "    problem.solve()\n",
    "    print(problem.status)\n",
    "    if problem.status == cp.OPTIMAL:\n",
    "        printsolution(problem, x, y)"
   ]
  },
  {
   "cell_type": "code",
   "execution_count": 12,
   "metadata": {},
   "outputs": [
    {
     "name": "stdout",
     "output_type": "stream",
     "text": [
      "optimal\n",
      "\n",
      "Selected Heroes' Average Win Rates:\n",
      "- Hulk: 52.22%\n",
      "- Invisible Woman: 47.21%\n",
      "- Iron Man: 48.98%\n",
      "- Mister Fantastic: 49.50%\n",
      "- The Thing: 45.46%\n",
      "- Wolverine: 54.37%\n",
      "\n",
      "Selected Heroes:\n",
      "- Hulk : Vanguard\n",
      "- Invisible Woman Strategist\n",
      "- Iron Man Duelist\n",
      "- Mister Fantastic Duelist\n",
      "- The Thing : Vanguard\n",
      "- Wolverine Duelist\n",
      "\n",
      "Selected Team-Ups:\n",
      "- ('Hulk', 'Iron Man')\n",
      "- ('Hulk', 'Wolverine')\n",
      "- ('Invisible Woman', 'Mister Fantastic')\n",
      "- ('Invisible Woman', 'The Thing')\n",
      "- ('The Thing', 'Wolverine')\n",
      "\n",
      "Average Win Rate of Selected Team-Ups: 49.62%\n"
     ]
    }
   ],
   "source": [
    "solve_teamups(5, classLimit=False)"
   ]
  },
  {
   "cell_type": "code",
   "execution_count": 18,
   "metadata": {},
   "outputs": [
    {
     "name": "stdout",
     "output_type": "stream",
     "text": [
      "infeasible\n"
     ]
    }
   ],
   "source": [
    "# no solution\n",
    "solve_teamups(5, classLimit=True)"
   ]
  },
  {
   "cell_type": "code",
   "execution_count": 14,
   "metadata": {},
   "outputs": [
    {
     "name": "stdout",
     "output_type": "stream",
     "text": [
      "optimal\n",
      "\n",
      "Selected Heroes' Average Win Rates:\n",
      "- Groot: 50.94%\n",
      "- Hulk: 52.22%\n",
      "- Jeff The Land Shark: 51.85%\n",
      "- Rocket Raccoon: 55.50%\n",
      "- Winter Soldier: 53.12%\n",
      "- Wolverine: 54.37%\n",
      "\n",
      "Selected Heroes:\n",
      "- Groot : Vanguard\n",
      "- Hulk : Vanguard\n",
      "- Jeff The Land Shark Strategist\n",
      "- Rocket Raccoon Strategist\n",
      "- Winter Soldier Duelist\n",
      "- Wolverine Duelist\n",
      "\n",
      "Selected Team-Ups:\n",
      "- ('Groot', 'Jeff The Land Shark')\n",
      "- ('Groot', 'Rocket Raccoon')\n",
      "- ('Hulk', 'Wolverine')\n",
      "- ('Rocket Raccoon', 'Winter Soldier')\n",
      "\n",
      "Average Win Rate of Selected Team-Ups: 53.00%\n"
     ]
    }
   ],
   "source": [
    "solve_teamups(4, classLimit=False)\n"
   ]
  },
  {
   "cell_type": "code",
   "execution_count": 15,
   "metadata": {},
   "outputs": [
    {
     "name": "stdout",
     "output_type": "stream",
     "text": [
      "optimal\n",
      "\n",
      "Selected Heroes' Average Win Rates:\n",
      "- Groot: 50.94%\n",
      "- Hulk: 52.22%\n",
      "- Jeff The Land Shark: 51.85%\n",
      "- Rocket Raccoon: 55.50%\n",
      "- Winter Soldier: 53.12%\n",
      "- Wolverine: 54.37%\n",
      "\n",
      "Selected Heroes:\n",
      "- Groot : Vanguard\n",
      "- Hulk : Vanguard\n",
      "- Jeff The Land Shark Strategist\n",
      "- Rocket Raccoon Strategist\n",
      "- Winter Soldier Duelist\n",
      "- Wolverine Duelist\n",
      "\n",
      "Selected Team-Ups:\n",
      "- ('Groot', 'Jeff The Land Shark')\n",
      "- ('Groot', 'Rocket Raccoon')\n",
      "- ('Hulk', 'Wolverine')\n",
      "- ('Rocket Raccoon', 'Winter Soldier')\n",
      "\n",
      "Average Win Rate of Selected Team-Ups: 53.00%\n"
     ]
    }
   ],
   "source": [
    "solve_teamups(4, classLimit=True)"
   ]
  }
 ],
 "metadata": {
  "kernelspec": {
   "display_name": "Python 3",
   "language": "python",
   "name": "python3"
  },
  "language_info": {
   "codemirror_mode": {
    "name": "ipython",
    "version": 3
   },
   "file_extension": ".py",
   "mimetype": "text/x-python",
   "name": "python",
   "nbconvert_exporter": "python",
   "pygments_lexer": "ipython3",
   "version": "3.13.0"
  }
 },
 "nbformat": 4,
 "nbformat_minor": 2
}
