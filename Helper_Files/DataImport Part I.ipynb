{
 "cells": [
  {
   "cell_type": "code",
   "execution_count": 1,
   "id": "70638fe3-142c-4d88-bffc-06874124343d",
   "metadata": {},
   "outputs": [],
   "source": [
    "import requests\n",
    "from bs4 import BeautifulSoup\n",
    "import pandas as pd\n",
    "import time\n",
    "import numpy as np"
   ]
  },
  {
   "cell_type": "code",
   "execution_count": 2,
   "id": "9bfe1d82-dc9b-40dd-b451-5df9fa21055e",
   "metadata": {},
   "outputs": [],
   "source": [
    "vanguards = sorted([\n",
    "    \"Venom\", \"Magneto\", \"Doctor Strange\", \"The Thing\", \"Groot\", \"Hulk\", \"Thor\", \"Peni Parker\", \"Captain America\"\n",
    "])\n",
    "\n",
    "duelists = sorted([\n",
    "    \"Moon Knight\", \"Squirrel Girl\", \"Human Torch\", \"Black Widow\", \"Namor\", \"The Punisher\",\n",
    "    \"Hawkeye\", \"Scarlet Witch\", \"Psylocke\", \"Winter Soldier\", \"Wolverine\", \"Iron Man\", \"Hela\",\n",
    "    \"Mister Fantastic\", \"Spider Man\", \"Iron Fist\", \"Star Lord\", \"Black Panther\", \"Storm\", \"Magik\"\n",
    "])\n",
    "\n",
    "strategists = sorted([\n",
    "    \"Jeff The Land Shark\", \"Luna Snow\", \"Cloak & Dagger\", \"Invisible Woman\", \"Adam Warlock\",\n",
    "    \"Loki\", \"Mantis\", \"Rocket Raccoon\"\n",
    "])\n",
    "sorted_heroes = vanguards + duelists + strategists\n",
    "WinRate_df = pd.DataFrame(index=sorted_heroes)\n",
    "base_url = \"https://rivalsmeta.com/characters/{}/matchups\"\n",
    "headers = {\n",
    "    \"User-Agent\": \"Mozilla/5.0 (Windows NT 10.0; Win64; x64) AppleWebKit/537.36 (KHTML, like Gecko) Chrome/91.0.4472.124 Safari/537.36\"\n",
    "}\n",
    "\n",
    "def format_hero_name(hero_name):\n",
    "    \"\"\"Converts hero names to the correct URL format.\"\"\"\n",
    "    if hero_name == \"Cloak & Dagger\":\n",
    "        return \"cloak-dagger\"  # Special case\n",
    "    return hero_name.lower().replace(\" \", \"-\")"
   ]
  },
  {
   "cell_type": "code",
   "execution_count": null,
   "id": "69a395d5-3fa6-437d-ac4d-7fbe49d1a5b9",
   "metadata": {},
   "outputs": [
    {
     "name": "stdout",
     "output_type": "stream",
     "text": [
      "Fetching matchups for Captain America...\n"
     ]
    }
   ],
   "source": [
    "for hero in sorted_heroes:\n",
    "    print(f\"Fetching matchups for {hero}...\")\n",
    "    hero_url_name = format_hero_name(hero)\n",
    "    url = base_url.format(hero_url_name)\n",
    "    response = requests.get(url, headers=headers)\n",
    "    if response.status_code != 200:\n",
    "        print(f\"Failed to fetch {hero}, status code: {response.status_code}\")\n",
    "        continue\n",
    "    soup = BeautifulSoup(response.text, \"html.parser\")\n",
    "    tables = soup.find_all(\"tbody\")\n",
    "    matchup_data = {}\n",
    "    for table in tables:\n",
    "        for row in table.find_all(\"tr\"):\n",
    "            columns = row.find_all(\"td\")\n",
    "            if len(columns) < 3:\n",
    "                continue \n",
    "            opponent_name_tag = columns[0].find(\"img\", class_=\"hero-img\")\n",
    "            if opponent_name_tag:\n",
    "                opponent_name = opponent_name_tag[\"alt\"].strip()\n",
    "            else:\n",
    "                continue\n",
    "            win_rate = columns[1].text.strip().replace(\"%\", \"\")\n",
    "            if opponent_name in sorted_heroes:  # Ensure the opponent is a valid in-game hero\n",
    "                matchup_data[opponent_name] = float(win_rate)\n",
    "\n",
    "    matchup_data[hero] = 50.0\n",
    "    win_rate_series = pd.Series(matchup_data, name=hero)\n",
    "    WinRate_df[hero] = win_rate_series\n",
    "    time.sleep(2)\n",
    "WinRate_df = WinRate_df.loc[sorted_heroes]"
   ]
  },
  {
   "cell_type": "code",
   "execution_count": null,
   "id": "8f27c548-28db-4564-ad76-a0fbea8a9ede",
   "metadata": {},
   "outputs": [],
   "source": [
    "WinRate_df.to_csv(\"MarvelRivals_WinRate_Matrix.csv\", index=True)\n",
    "WinRate_df = WinRate_df.T\n",
    "WinRate_df"
   ]
  },
  {
   "cell_type": "code",
   "execution_count": 10,
   "id": "52e0159b-bd7e-4ead-8368-d799f90ee6f8",
   "metadata": {},
   "outputs": [
    {
     "name": "stdout",
     "output_type": "stream",
     "text": [
      "Fetching match counts for Captain America...\n",
      "Fetching match counts for Doctor Strange...\n",
      "Fetching match counts for Groot...\n",
      "Fetching match counts for Hulk...\n",
      "Fetching match counts for Magneto...\n",
      "Fetching match counts for Peni Parker...\n",
      "Fetching match counts for The Thing...\n",
      "Fetching match counts for Thor...\n",
      "Fetching match counts for Venom...\n",
      "Fetching match counts for Black Panther...\n",
      "Fetching match counts for Black Widow...\n",
      "Fetching match counts for Hawkeye...\n",
      "Fetching match counts for Hela...\n",
      "Fetching match counts for Human Torch...\n",
      "Fetching match counts for Iron Fist...\n",
      "Fetching match counts for Iron Man...\n",
      "Fetching match counts for Magik...\n",
      "Fetching match counts for Mister Fantastic...\n",
      "Fetching match counts for Moon Knight...\n",
      "Fetching match counts for Namor...\n",
      "Fetching match counts for Psylocke...\n",
      "Fetching match counts for Scarlet Witch...\n",
      "Fetching match counts for Spider Man...\n",
      "Fetching match counts for Squirrel Girl...\n",
      "Fetching match counts for Star Lord...\n",
      "Fetching match counts for Storm...\n",
      "Fetching match counts for The Punisher...\n",
      "Fetching match counts for Winter Soldier...\n",
      "Fetching match counts for Wolverine...\n",
      "Fetching match counts for Adam Warlock...\n",
      "Fetching match counts for Cloak & Dagger...\n",
      "Fetching match counts for Invisible Woman...\n",
      "Fetching match counts for Jeff The Land Shark...\n",
      "Fetching match counts for Loki...\n",
      "Fetching match counts for Luna Snow...\n",
      "Fetching match counts for Mantis...\n",
      "Fetching match counts for Rocket Raccoon...\n"
     ]
    }
   ],
   "source": [
    "NumMatches_df = pd.DataFrame(index=sorted_heroes)\n",
    "\n",
    "for hero in sorted_heroes:\n",
    "    print(f\"Fetching match counts for {hero}...\")\n",
    "    hero_url_name = format_hero_name(hero)\n",
    "    url = base_url.format(hero_url_name)\n",
    "    response = requests.get(url, headers=headers)\n",
    "    if response.status_code != 200:\n",
    "        print(f\"Failed to fetch {hero}, status code: {response.status_code}\")\n",
    "        continue\n",
    "    soup = BeautifulSoup(response.text, \"html.parser\")\n",
    "    tables = soup.find_all(\"tbody\")\n",
    "    match_count_data = {}\n",
    "    for table in tables:\n",
    "        for row in table.find_all(\"tr\"):\n",
    "            columns = row.find_all(\"td\")\n",
    "            if len(columns) < 3:\n",
    "                continue \n",
    "            opponent_name_tag = columns[0].find(\"img\", class_=\"hero-img\")\n",
    "            if opponent_name_tag:\n",
    "                opponent_name = opponent_name_tag[\"alt\"].strip()\n",
    "            else:\n",
    "                continue\n",
    "            match_count_text = columns[2].text.strip().replace(\",\", \"\")  # Remove commas\n",
    "            if match_count_text.isdigit():\n",
    "                match_count = int(match_count_text)\n",
    "            else:\n",
    "                continue  \n",
    "            if opponent_name in sorted_heroes: \n",
    "                match_count_data[opponent_name] = match_count\n",
    "    if match_count_data:\n",
    "        match_count_data[hero] = int(np.mean(list(match_count_data.values())))\n",
    "    match_count_series = pd.Series(match_count_data, name=hero)\n",
    "    NumMatches_df[hero] = match_count_series\n",
    "    time.sleep(2)\n",
    "\n",
    "NumMatches_df = NumMatches_df.loc[sorted_heroes]"
   ]
  },
  {
   "cell_type": "code",
   "execution_count": 12,
   "id": "0bc5c7f9-989c-43a4-a46f-a2c43dac97b7",
   "metadata": {},
   "outputs": [],
   "source": [
    "NumMatches_df.to_csv(\"MarvelRivals_NumMatches_Matrix.csv\", index=True)\n",
    "NumMatches_df = NumMatches_df.T\n",
    "NumMatches_df"
   ]
  },
  {
   "cell_type": "code",
   "execution_count": 18,
   "id": "34d5e5d2-908e-4f5b-849a-4683eb7b2e70",
   "metadata": {},
   "outputs": [
    {
     "data": {
      "text/plain": [
       "54.15"
      ]
     },
     "execution_count": 18,
     "metadata": {},
     "output_type": "execute_result"
    }
   ],
   "source": []
  }
 ],
 "metadata": {
  "kernelspec": {
   "display_name": "Python 3 (ipykernel)",
   "language": "python",
   "name": "python3"
  },
  "language_info": {
   "codemirror_mode": {
    "name": "ipython",
    "version": 3
   },
   "file_extension": ".py",
   "mimetype": "text/x-python",
   "name": "python",
   "nbconvert_exporter": "python",
   "pygments_lexer": "ipython3",
   "version": "3.12.5"
  }
 },
 "nbformat": 4,
 "nbformat_minor": 5
}
